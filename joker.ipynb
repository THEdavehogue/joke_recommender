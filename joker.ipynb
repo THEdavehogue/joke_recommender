{
 "cells": [
  {
   "cell_type": "code",
   "execution_count": 9,
   "metadata": {
    "collapsed": false
   },
   "outputs": [],
   "source": [
    "from bs4 import BeautifulSoup\n",
    "import graphlab as gl\n",
    "import matplotlib.pyplot as plt\n",
    "%matplotlib inline\n",
    "import numpy as np\n",
    "import pandas as pd\n"
   ]
  },
  {
   "cell_type": "code",
   "execution_count": 78,
   "metadata": {
    "collapsed": false
   },
   "outputs": [],
   "source": [
    "ratings = pd.read_table('data/ratings.dat')\n",
    "jokes_list = []\n",
    "\n",
    "def get_jokes(file_path):\n",
    "    with open(file_path) as jokes:\n",
    "        tree = BeautifulSoup(jokes)\n",
    "        line = tree.findAll('p')\n",
    "        jokes_list.extend(line)\n",
    "\n",
    "    f_j_l = []\n",
    "    for indx, joke in enumerate(jokes_list):\n",
    "        joke = str(joke)\n",
    "        joke = joke.replace(\"<p>\", \"\")\n",
    "        joke = joke.replace(\"<br/>\", \"\\n\")\n",
    "        joke = joke.replace(\"</p>\", \"\")\n",
    "        f_j_l.append(joke)\n",
    "\n",
    "    #0th element of f_j_l is number for some reason. \n",
    "    joke_series = pd.Series(f_j_l[1:])\n",
    "    return joke_series"
   ]
  },
  {
   "cell_type": "code",
   "execution_count": 79,
   "metadata": {
    "collapsed": false
   },
   "outputs": [
    {
     "name": "stdout",
     "output_type": "stream",
     "text": [
      "\n",
      "A horse walks into a bar. The bartender asks:\n",
      "\n",
      "\n",
      "\r\n",
      "\"So, why the long face?\"\n",
      "\n"
     ]
    }
   ],
   "source": [
    "jokes = get_jokes('data/jokes.dat')\n",
    "print jokes[43]"
   ]
  },
  {
   "cell_type": "code",
   "execution_count": null,
   "metadata": {
    "collapsed": true
   },
   "outputs": [],
   "source": []
  }
 ],
 "metadata": {
  "anaconda-cloud": {},
  "kernelspec": {
   "display_name": "Python [default]",
   "language": "python",
   "name": "python2"
  },
  "language_info": {
   "codemirror_mode": {
    "name": "ipython",
    "version": 2
   },
   "file_extension": ".py",
   "mimetype": "text/x-python",
   "name": "python",
   "nbconvert_exporter": "python",
   "pygments_lexer": "ipython2",
   "version": "2.7.12"
  }
 },
 "nbformat": 4,
 "nbformat_minor": 1
}
