{
 "cells": [
  {
   "cell_type": "code",
   "execution_count": 9,
   "metadata": {
    "collapsed": false
   },
   "outputs": [],
   "source": [
    "from bs4 import BeautifulSoup\n",
    "import graphlab as gl\n",
    "import matplotlib.pyplot as plt\n",
    "%matplotlib inline\n",
    "import numpy as np\n",
    "import pandas as pd\n"
   ]
  },
  {
   "cell_type": "code",
   "execution_count": 78,
   "metadata": {
    "collapsed": false
   },
   "outputs": [],
   "source": [
    "ratings = pd.read_table('data/ratings.dat')\n",
    "jokes_list = []\n",
    "\n",
    "def get_jokes(file_path):\n",
    "    with open(file_path) as jokes:\n",
    "        tree = BeautifulSoup(jokes)\n",
    "        line = tree.findAll('p')\n",
    "        jokes_list.extend(line)\n",
    "\n",
    "    f_j_l = []\n",
    "    for indx, joke in enumerate(jokes_list):\n",
    "        joke = str(joke)\n",
    "        joke = joke.replace(\"<p>\", \"\")\n",
    "        joke = joke.replace(\"<br/>\", \"\\n\")\n",
    "        joke = joke.replace(\"</p>\", \"\")\n",
    "        f_j_l.append(joke)\n",
    "\n",
    "    #0th element of f_j_l is number for some reason. \n",
    "    joke_series = pd.Series(f_j_l[1:])\n",
    "    return joke_series"
   ]
  },
  {
   "cell_type": "code",
   "execution_count": 79,
   "metadata": {
    "collapsed": false
   },
   "outputs": [
    {
     "name": "stdout",
     "output_type": "stream",
     "text": [
      "\n",
      "A horse walks into a bar. The bartender asks:\n",
      "\n",
      "\n",
      "\r\n",
      "\"So, why the long face?\"\n",
      "\n"
     ]
    }
   ],
   "source": [
    "jokes = get_jokes('data/jokes.dat')\n",
    "print jokes[43]"
   ]
  },
  {
   "cell_type": "code",
   "execution_count": 82,
   "metadata": {
    "collapsed": false
   },
   "outputs": [],
   "source": [
    "def get_recs(submission):\n",
    "    sample_sub = pd.read_csv(submission)\n",
    "    for_prediction = gl.SFrame(sample_sub)\n",
    "#     recommendations = rec_engine.recommend(for_prediction['user_id'])\n",
    "    sample_sub.rating = rec_engine.predict(for_prediction)\n",
    "    sample_sub.to_csv(\"data/test_ratings.csv\", index=False)"
   ]
  },
  {
   "cell_type": "code",
   "execution_count": 83,
   "metadata": {
    "collapsed": false
   },
   "outputs": [
    {
     "ename": "NameError",
     "evalue": "global name 'rec_engine' is not defined",
     "output_type": "error",
     "traceback": [
      "\u001b[0;31m---------------------------------------------------------------------------\u001b[0m",
      "\u001b[0;31mNameError\u001b[0m                                 Traceback (most recent call last)",
      "\u001b[0;32m<ipython-input-83-a799000aeb2e>\u001b[0m in \u001b[0;36m<module>\u001b[0;34m()\u001b[0m\n\u001b[0;32m----> 1\u001b[0;31m \u001b[0mget_recs\u001b[0m\u001b[0;34m(\u001b[0m\u001b[0;34m\"data/sample_submission.csv\"\u001b[0m\u001b[0;34m)\u001b[0m\u001b[0;34m\u001b[0m\u001b[0m\n\u001b[0m",
      "\u001b[0;32m<ipython-input-82-1a47ff560136>\u001b[0m in \u001b[0;36mget_recs\u001b[0;34m(submission)\u001b[0m\n\u001b[1;32m      3\u001b[0m     \u001b[0mfor_prediction\u001b[0m \u001b[0;34m=\u001b[0m \u001b[0mgl\u001b[0m\u001b[0;34m.\u001b[0m\u001b[0mSFrame\u001b[0m\u001b[0;34m(\u001b[0m\u001b[0msample_sub\u001b[0m\u001b[0;34m)\u001b[0m\u001b[0;34m\u001b[0m\u001b[0m\n\u001b[1;32m      4\u001b[0m \u001b[0;31m#     recommendations = rec_engine.recommend(for_prediction['user_id'])\u001b[0m\u001b[0;34m\u001b[0m\u001b[0;34m\u001b[0m\u001b[0m\n\u001b[0;32m----> 5\u001b[0;31m     \u001b[0msample_sub\u001b[0m\u001b[0;34m.\u001b[0m\u001b[0mrating\u001b[0m \u001b[0;34m=\u001b[0m \u001b[0mrec_engine\u001b[0m\u001b[0;34m.\u001b[0m\u001b[0mpredict\u001b[0m\u001b[0;34m(\u001b[0m\u001b[0mfor_prediction\u001b[0m\u001b[0;34m)\u001b[0m\u001b[0;34m\u001b[0m\u001b[0m\n\u001b[0m\u001b[1;32m      6\u001b[0m     \u001b[0msample_sub\u001b[0m\u001b[0;34m.\u001b[0m\u001b[0mto_csv\u001b[0m\u001b[0;34m(\u001b[0m\u001b[0;34m\"data/test_ratings.csv\"\u001b[0m\u001b[0;34m,\u001b[0m \u001b[0mindex\u001b[0m\u001b[0;34m=\u001b[0m\u001b[0mFalse\u001b[0m\u001b[0;34m)\u001b[0m\u001b[0;34m\u001b[0m\u001b[0m\n",
      "\u001b[0;31mNameError\u001b[0m: global name 'rec_engine' is not defined"
     ]
    }
   ],
   "source": [
    "get_recs(\"data/sample_submission.csv\")"
   ]
  },
  {
   "cell_type": "code",
   "execution_count": null,
   "metadata": {
    "collapsed": true
   },
   "outputs": [],
   "source": []
  }
 ],
 "metadata": {
  "anaconda-cloud": {},
  "kernelspec": {
   "display_name": "Python [default]",
   "language": "python",
   "name": "python2"
  },
  "language_info": {
   "codemirror_mode": {
    "name": "ipython",
    "version": 2
   },
   "file_extension": ".py",
   "mimetype": "text/x-python",
   "name": "python",
   "nbconvert_exporter": "python",
   "pygments_lexer": "ipython2",
   "version": "2.7.12"
  }
 },
 "nbformat": 4,
 "nbformat_minor": 1
}
